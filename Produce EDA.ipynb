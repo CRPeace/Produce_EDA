{
 "cells": [
  {
   "cell_type": "markdown",
   "id": "f52d42db",
   "metadata": {},
   "source": [
    "# Produce Analysis\n",
    "#### Cameron Peace"
   ]
  },
  {
   "cell_type": "markdown",
   "id": "bb6f8e4e",
   "metadata": {},
   "source": [
    "## Data Background"
   ]
  },
  {
   "cell_type": "markdown",
   "id": "e23ce797",
   "metadata": {},
   "source": [
    "This dataset can be found [here](https://www.kaggle.com/datasets/datota/fruit-and-vegatable-prices-in-uk-2017-2022) on kaggle.com\n",
    "\n",
    "Kaggle Description:\n",
    "> ### ***This series gives the average wholesale prices of selected home-grown horticultural produce in England and Wales. These are averages of the most usual prices charged by wholesalers for selected home-grown fruit, vegetables and cut flowers at the wholesale markets in UK***\n",
    "\n"
   ]
  },
  {
   "cell_type": "markdown",
   "id": "45adb667",
   "metadata": {},
   "source": [
    "### Data Dictionary"
   ]
  },
  {
   "cell_type": "markdown",
   "id": "4c350266",
   "metadata": {},
   "source": [
    "Category -\n",
    "\n",
    "item\n",
    "Subcategory\n",
    "\n",
    "variety\n",
    "Variety\n",
    "\n",
    "date\n",
    "Pricing Date\n",
    "\n",
    "price\n",
    "Price\n",
    "\n",
    "unit\n",
    "Per Unit"
   ]
  },
  {
   "cell_type": "markdown",
   "id": "a00bf146",
   "metadata": {},
   "source": [
    "## Imports"
   ]
  },
  {
   "cell_type": "code",
   "execution_count": null,
   "id": "6c9203a0",
   "metadata": {},
   "outputs": [],
   "source": [
    "import pandas as pd\n",
    "import numpy as np\n",
    "import seaborn as sns\n",
    "import mat"
   ]
  }
 ],
 "metadata": {
  "kernelspec": {
   "display_name": "Python (dojo-env)",
   "language": "python",
   "name": "dojo-env"
  },
  "language_info": {
   "codemirror_mode": {
    "name": "ipython",
    "version": 3
   },
   "file_extension": ".py",
   "mimetype": "text/x-python",
   "name": "python",
   "nbconvert_exporter": "python",
   "pygments_lexer": "ipython3",
   "version": "3.9.15"
  },
  "toc": {
   "base_numbering": 1,
   "nav_menu": {},
   "number_sections": false,
   "sideBar": true,
   "skip_h1_title": false,
   "title_cell": "Table of Contents",
   "title_sidebar": "Contents",
   "toc_cell": false,
   "toc_position": {},
   "toc_section_display": true,
   "toc_window_display": false
  }
 },
 "nbformat": 4,
 "nbformat_minor": 5
}
